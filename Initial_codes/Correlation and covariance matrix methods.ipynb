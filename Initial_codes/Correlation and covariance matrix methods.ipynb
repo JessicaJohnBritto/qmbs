{
 "cells": [
  {
   "cell_type": "markdown",
   "id": "c733846d-fddc-423b-aadd-e29ea9fb168d",
   "metadata": {},
   "source": [
    "# Importing Packages"
   ]
  },
  {
   "cell_type": "code",
   "execution_count": 1,
   "id": "2f74d33b-8a1d-440d-96a5-20ca1bdcd435",
   "metadata": {},
   "outputs": [],
   "source": [
    "import numpy as np\n",
    "from scipy import linalg as splinalg\n",
    "import matplotlib.pyplot as plt\n",
    "from scipy import sparse as sp\n",
    "import scipy.sparse.linalg as splin\n",
    "from functools import reduce\n",
    "import itertools\n",
    "from scipy import linalg\n",
    "from scipy.linalg import expm, logm\n",
    "from scipy.special import comb\n",
    "from itertools import combinations_with_replacement, product\n",
    "from collections import Counter\n",
    "import copy\n",
    "from scipy.linalg import ishermitian\n",
    "from scipy.linalg import eigh\n",
    "import scipy"
   ]
  },
  {
   "cell_type": "markdown",
   "id": "9201c7ba-957e-4696-95b4-7b6e5444fa99",
   "metadata": {},
   "source": [
    "# Definitions"
   ]
  },
  {
   "cell_type": "code",
   "execution_count": 66,
   "id": "32130779-923d-4def-b70b-cedf04e3e453",
   "metadata": {},
   "outputs": [],
   "source": [
    "Z = sp.csc_matrix([[1, 0], [0, -1]])\n",
    "X = sp.csc_matrix([[0, 1], [1, 0]])\n",
    "Y = sp.csc_matrix([[0, -1j], [1j, 0]])\n",
    "I = sp.csc_matrix([[1, 0], [0, 1]])\n",
    "\n",
    "params={}\n",
    "params['sites'] = 4\n",
    "params['I'] = sp.eye(2)\n",
    "params['X'] = X\n",
    "params['Y'] = Y\n",
    "params['Z'] = Z"
   ]
  },
  {
   "cell_type": "code",
   "execution_count": 67,
   "id": "b371c9a8-1b7a-475b-88f6-338ff8233f2b",
   "metadata": {},
   "outputs": [
    {
     "name": "stdout",
     "output_type": "stream",
     "text": [
      "[[0.+0.j 0.-1.j]\n",
      " [0.+1.j 0.+0.j]]\n"
     ]
    }
   ],
   "source": [
    "print(params['Y'].toarray())"
   ]
  },
  {
   "cell_type": "code",
   "execution_count": 68,
   "id": "caaa08dd-b6ab-4306-99f7-937402334c06",
   "metadata": {},
   "outputs": [
    {
     "name": "stdout",
     "output_type": "stream",
     "text": [
      "[[0.+0.j 0.-1.j]\n",
      " [0.+1.j 0.+0.j]]\n"
     ]
    }
   ],
   "source": [
    "print(Y.toarray())"
   ]
  },
  {
   "cell_type": "code",
   "execution_count": 69,
   "id": "103a7878-c3b7-40d2-b4f7-ac48559f748a",
   "metadata": {},
   "outputs": [],
   "source": [
    "H = sp.csc_matrix((2**params['sites'], 2**params['sites']))\n",
    "# H.toarray()"
   ]
  },
  {
   "cell_type": "markdown",
   "id": "8289353e-6498-4af6-b1de-bdb6b7a81d0f",
   "metadata": {},
   "source": [
    "# Heisenberg Hamiltonian 1D"
   ]
  },
  {
   "cell_type": "code",
   "execution_count": 70,
   "id": "bb7a6a22-0420-4850-b241-4933cd2b0817",
   "metadata": {},
   "outputs": [
    {
     "data": {
      "text/plain": [
       "<Compressed Sparse Column sparse matrix of dtype 'complex128'\n",
       "\twith 40 stored elements and shape (16, 16)>"
      ]
     },
     "execution_count": 70,
     "metadata": {},
     "output_type": "execute_result"
    }
   ],
   "source": [
    "H = sp.csc_matrix((2**params['sites'], 2**params['sites']))\n",
    "for i in range(params['sites']-1):\n",
    "    H += reduce(sp.kron, (sp.eye(2**i), params['X'], params['X'], sp.eye(2**(params['sites']-2-i)))) + reduce(sp.kron, (sp.eye(2**i), params['Y'], params['Y'], sp.eye(2**(params['sites']-2-i)))) + reduce(sp.kron, (sp.eye(2**i), params['Z'], params['Z'], sp.eye(2**(params['sites']-2-i))))\n",
    "\n",
    "H"
   ]
  },
  {
   "cell_type": "code",
   "execution_count": 76,
   "id": "48ff29cb-fad6-4300-9c9c-33db6a7ec857",
   "metadata": {},
   "outputs": [],
   "source": [
    "# eigenvalues, eigenvectors = splin.eigsh(H, k=1, which='SA')\n",
    "eigenvalues, eigenvectors = np.linalg.eigh(H.toarray())"
   ]
  },
  {
   "cell_type": "code",
   "execution_count": 77,
   "id": "48e492ff-b280-463a-a25e-a441a7d0943d",
   "metadata": {},
   "outputs": [
    {
     "data": {
      "text/plain": [
       "np.float64(-6.464101615137755)"
      ]
     },
     "execution_count": 77,
     "metadata": {},
     "output_type": "execute_result"
    }
   ],
   "source": [
    "eigenvalues[0]"
   ]
  },
  {
   "cell_type": "code",
   "execution_count": 88,
   "id": "a8bccc8d-02c3-4645-ba16-ea72d615df5b",
   "metadata": {},
   "outputs": [
    {
     "name": "stdout",
     "output_type": "stream",
     "text": [
      "[-0.00000000e+00-0.j -0.00000000e+00-0.j -0.00000000e+00-0.j\n",
      "  1.49429245e-01+0.j  0.00000000e+00+0.j -5.57677536e-01+0.j\n",
      "  4.08248290e-01+0.j  0.00000000e+00+0.j  0.00000000e+00+0.j\n",
      "  4.08248290e-01+0.j -5.57677536e-01+0.j  1.88296102e-17+0.j\n",
      "  1.49429245e-01+0.j -7.64157212e-18+0.j  2.04755308e-18+0.j\n",
      "  0.00000000e+00+0.j]\n"
     ]
    }
   ],
   "source": [
    "eigenvectors\n",
    "print(eigenvectors[:,0])\n",
    "ground_state = eigenvectors[:, 0]  "
   ]
  },
  {
   "cell_type": "markdown",
   "id": "ef6e9a7d-feba-41e1-b33a-96aea0624b72",
   "metadata": {},
   "source": [
    "# Covariance matrix method"
   ]
  },
  {
   "cell_type": "code",
   "execution_count": 89,
   "id": "611cf69d-79f1-451d-bbc5-22650c08b2f5",
   "metadata": {},
   "outputs": [
    {
     "name": "stdout",
     "output_type": "stream",
     "text": [
      "Eigenvectors with zero eigenvalue of the covariance matrix (two-site Pauli operators):\n",
      "Eigenvector 1:\n",
      "[-0.26307262+0.j  0.89490499+0.j  0.01981398+0.j  0.26832039+0.j\n",
      " -0.11171248+0.j  0.19241526+0.j  0.08053948+0.j -0.03916902+0.j\n",
      "  0.00502954+0.j]\n",
      "Eigenvector 2:\n",
      "[ 0.66217223+0.j  0.20258596+0.j -0.11075431+0.j -0.236642  +0.j\n",
      " -0.01149414+0.j  0.27582426+0.j  0.0280196 +0.j -0.12750953+0.j\n",
      " -0.59913771+0.j]\n",
      "Eigenvector 3:\n",
      "[-0.43048915+0.j -0.17183018+0.j -0.16724038+0.j -0.11891153+0.j\n",
      " -0.15033305+0.j  0.15799756+0.j  0.57988597+0.j  0.40707219+0.j\n",
      " -0.43989251+0.j]\n",
      "Eigenvector 4:\n",
      "[-0.10985602+0.j -0.01453274+0.j  0.23929191+0.j -0.16903119+0.j\n",
      "  0.26229053+0.j -0.09982542+0.j  0.56130082+0.j -0.71241533+0.j\n",
      "  0.02307921+0.j]\n",
      "Eigenvector 5:\n",
      "[-0.19113123+0.j -0.04759636+0.j  0.76530739+0.j  0.10558352+0.j\n",
      " -0.05942822+0.j -0.16392369+0.j -0.28309032+0.j  0.02419528+0.j\n",
      " -0.50322154+0.j]\n",
      "Eigenvector 6:\n",
      "[-0.36387243-0.j  0.01022673+0.j -0.4363695 +0.j -0.26483903+0.j\n",
      " -0.3800717 +0.j -0.27765515+0.j -0.36778341+0.j -0.42706107+0.j\n",
      " -0.26027206+0.j]\n",
      "\n",
      "Effective Hamiltonian in the subspace of zero eigenvectors:\n",
      "[[-1.37953316+0.j  0.        +0.j  0.        +0.j  1.47375962+0.j\n",
      "   0.        +0.j  0.        +0.j  0.03522922+0.j  0.        +0.j\n",
      "   0.        +0.j  0.        +0.j  0.        +0.j  0.        +0.j\n",
      "  -1.57000763+0.j  0.        +0.j  0.        +0.j  0.        +0.j]\n",
      " [ 0.        +0.j  2.16929698+0.j -0.27601534+0.j  0.        +0.j\n",
      "   0.        +0.j  0.        +0.j  0.        +0.j  0.03522922+0.j\n",
      "   0.        +0.j  0.        +0.j  0.        +0.j  0.        +0.j\n",
      "   0.        +0.j -1.57000763+0.j  0.        +0.j  0.        +0.j]\n",
      " [ 0.        +0.j -0.27601534+0.j  1.99963134+0.j  0.        +0.j\n",
      "  -0.8662689 +0.j  0.        +0.j  0.        +0.j  0.        +0.j\n",
      "   0.        +0.j  0.        +0.j  0.        +0.j  0.        +0.j\n",
      "   0.        +0.j  0.        +0.j -1.57000763+0.j  0.        +0.j]\n",
      " [ 1.47375962+0.j  0.        +0.j  0.        +0.j -1.5491988 +0.j\n",
      "   0.        +0.j -0.8662689 +0.j  0.        +0.j  0.        +0.j\n",
      "   0.        +0.j  0.        +0.j  0.        +0.j  0.        +0.j\n",
      "   0.        +0.j  0.        +0.j  0.        +0.j -1.57000763+0.j]\n",
      " [ 0.        +0.j  0.        +0.j -0.8662689 +0.j  0.        +0.j\n",
      "  -2.16929698+0.j  0.        +0.j  0.        +0.j  1.47375962+0.j\n",
      "   0.17750917+0.j  0.        +0.j  0.        +0.j  0.        +0.j\n",
      "   0.        +0.j  0.        +0.j  0.        +0.j  0.        +0.j]\n",
      " [ 0.        +0.j  0.        +0.j  0.        +0.j -0.8662689 +0.j\n",
      "   0.        +0.j  1.37953316+0.j -0.27601534+0.j  0.        +0.j\n",
      "   0.        +0.j  0.17750917+0.j  0.        +0.j  0.        +0.j\n",
      "   0.        +0.j  0.        +0.j  0.        +0.j  0.        +0.j]\n",
      " [ 0.03522922+0.j  0.        +0.j  0.        +0.j  0.        +0.j\n",
      "   0.        +0.j -0.27601534+0.j  1.5491988 +0.j  0.        +0.j\n",
      "   0.        +0.j  0.        +0.j  0.17750917+0.j  0.        +0.j\n",
      "   0.        +0.j  0.        +0.j  0.        +0.j  0.        +0.j]\n",
      " [ 0.        +0.j  0.03522922+0.j  0.        +0.j  0.        +0.j\n",
      "   1.47375962+0.j  0.        +0.j  0.        +0.j -1.99963134+0.j\n",
      "   0.        +0.j  0.        +0.j  0.        +0.j  0.17750917+0.j\n",
      "   0.        +0.j  0.        +0.j  0.        +0.j  0.        +0.j]\n",
      " [ 0.        +0.j  0.        +0.j  0.        +0.j  0.        +0.j\n",
      "   0.17750917+0.j  0.        +0.j  0.        +0.j  0.        +0.j\n",
      "  -1.99963134+0.j  0.        +0.j  0.        +0.j  1.47375962+0.j\n",
      "   0.        +0.j  0.        +0.j  0.03522922+0.j  0.        +0.j]\n",
      " [ 0.        +0.j  0.        +0.j  0.        +0.j  0.        +0.j\n",
      "   0.        +0.j  0.17750917+0.j  0.        +0.j  0.        +0.j\n",
      "   0.        +0.j  1.5491988 +0.j -0.27601534+0.j  0.        +0.j\n",
      "   0.        +0.j  0.        +0.j  0.        +0.j  0.03522922+0.j]\n",
      " [ 0.        +0.j  0.        +0.j  0.        +0.j  0.        +0.j\n",
      "   0.        +0.j  0.        +0.j  0.17750917+0.j  0.        +0.j\n",
      "   0.        +0.j -0.27601534+0.j  1.37953316+0.j  0.        +0.j\n",
      "  -0.8662689 +0.j  0.        +0.j  0.        +0.j  0.        +0.j]\n",
      " [ 0.        +0.j  0.        +0.j  0.        +0.j  0.        +0.j\n",
      "   0.        +0.j  0.        +0.j  0.        +0.j  0.17750917+0.j\n",
      "   1.47375962+0.j  0.        +0.j  0.        +0.j -2.16929698+0.j\n",
      "   0.        +0.j -0.8662689 +0.j  0.        +0.j  0.        +0.j]\n",
      " [-1.57000763+0.j  0.        +0.j  0.        +0.j  0.        +0.j\n",
      "   0.        +0.j  0.        +0.j  0.        +0.j  0.        +0.j\n",
      "   0.        +0.j  0.        +0.j -0.8662689 +0.j  0.        +0.j\n",
      "  -1.5491988 +0.j  0.        +0.j  0.        +0.j  1.47375962+0.j]\n",
      " [ 0.        +0.j -1.57000763+0.j  0.        +0.j  0.        +0.j\n",
      "   0.        +0.j  0.        +0.j  0.        +0.j  0.        +0.j\n",
      "   0.        +0.j  0.        +0.j  0.        +0.j -0.8662689 +0.j\n",
      "   0.        +0.j  1.99963134+0.j -0.27601534+0.j  0.        +0.j]\n",
      " [ 0.        +0.j  0.        +0.j -1.57000763+0.j  0.        +0.j\n",
      "   0.        +0.j  0.        +0.j  0.        +0.j  0.        +0.j\n",
      "   0.03522922+0.j  0.        +0.j  0.        +0.j  0.        +0.j\n",
      "   0.        +0.j -0.27601534+0.j  2.16929698+0.j  0.        +0.j]\n",
      " [ 0.        +0.j  0.        +0.j  0.        +0.j -1.57000763+0.j\n",
      "   0.        +0.j  0.        +0.j  0.        +0.j  0.        +0.j\n",
      "   0.        +0.j  0.03522922+0.j  0.        +0.j  0.        +0.j\n",
      "   1.47375962+0.j  0.        +0.j  0.        +0.j -1.37953316+0.j]]\n"
     ]
    }
   ],
   "source": [
    "def generate_two_site_pauli_operators(N):\n",
    "    two_site_ops = []\n",
    "    for i in range(N - 1): \n",
    "        X_iX_i1 = reduce(sp.kron, (sp.eye(2**i), params['X'], params['X'], sp.eye(2**(N - i - 2))))\n",
    "        Y_iY_i1 = reduce(sp.kron, (sp.eye(2**i), params['Y'], params['Y'], sp.eye(2**(N - i - 2))))\n",
    "        Z_iZ_i1 = reduce(sp.kron, (sp.eye(2**i), params['Z'], params['Z'], sp.eye(2**(N - i - 2))))\n",
    "        two_site_ops.extend([X_iX_i1, Y_iY_i1, Z_iZ_i1])\n",
    "    return two_site_ops\n",
    "\n",
    "two_site_operators = generate_two_site_pauli_operators(params['sites'])\n",
    "# print(two_site_operators)\n",
    "\n",
    "num_ops = len(two_site_operators)\n",
    "# covariance_matrix = sp.csc_matrix((num_ops, num_ops), dtype=complex)\n",
    "covariance_matrix = np.zeros((num_ops, num_ops), dtype=complex)\n",
    "\n",
    "for i in range(num_ops):\n",
    "    for j in range(num_ops):\n",
    "        V_i = two_site_operators[i].toarray()  # Convert sparse matrix to dense array\n",
    "        V_j = two_site_operators[j].toarray()  # Convert sparse matrix to dense array\n",
    "        term1 = np.vdot(ground_state, np.dot(V_i, np.dot(V_j, ground_state)))\n",
    "        term2 = np.vdot(ground_state, np.dot(V_i, ground_state)) * np.vdot(ground_state, np.dot(V_j, ground_state))\n",
    "        # print(term1-term2)\n",
    "        covariance_matrix[i, j] = term1 - term2  # Assign scalar value\n",
    "\n",
    "# eigenvalues, eigenvectors = splin.eigsh(covariance_matrix)\n",
    "eigenvalues1, eigenvectors1 = np.linalg.eigh(covariance_matrix)\n",
    "\n",
    "## Eigenvectors with zero eigenvalue (local operators that commute with the ground state)\n",
    "zero_eigenvectors1 = eigenvectors1[:, np.isclose(eigenvalues1, 0, atol=1e-8)]\n",
    "\n",
    "print(\"Eigenvectors with zero eigenvalue of the covariance matrix (two-site Pauli operators):\")\n",
    "for i in range(zero_eigenvectors1.shape[1]):\n",
    "    print(f\"Eigenvector {i + 1}:\")\n",
    "    print(zero_eigenvectors1[:, i])\n",
    "\n",
    "# # Reconstruct the effective Hamiltonian in the subspace of zero eigenvectors\n",
    "# # Use the zero eigenvectors to construct an effective Hamiltonian\n",
    "effective_hamiltonian_covar = np.zeros((2**params['sites'], 2**params['sites']), dtype=complex)\n",
    "for i in range(zero_eigenvectors1.shape[1]):\n",
    "    coeff = zero_eigenvectors1[:, i]\n",
    "    V_eff = sum(coeff[j] * two_site_operators[j].toarray() for j in range(num_ops))\n",
    "    effective_hamiltonian_covar += V_eff\n",
    "\n",
    "print(\"\\nEffective Hamiltonian in the subspace of zero eigenvectors:\")\n",
    "print(effective_hamiltonian_covar)"
   ]
  },
  {
   "cell_type": "markdown",
   "id": "f8dbf3d2-ddde-452a-a799-71e0fb55d89a",
   "metadata": {},
   "source": [
    "# Correlation matrix method"
   ]
  },
  {
   "cell_type": "code",
   "execution_count": 90,
   "id": "63996ce4-3097-4a7d-90f5-7035a6f26217",
   "metadata": {},
   "outputs": [
    {
     "name": "stdout",
     "output_type": "stream",
     "text": [
      "(-0.6586892478083896+0j)\n",
      "(-0.7480056452854305+0j)\n",
      "(-0.7480056452854305+0j)\n",
      "(-0.3631054658256804+0j)\n",
      "(-0.6071224016819727+0j)\n",
      "(-0.6071224016819731+0j)\n",
      "(-0.6586892478083893+0j)\n",
      "(-0.7480056452854302+0j)\n",
      "(-0.7480056452854305+0j)\n",
      "(-0.7480056452854305+0j)\n",
      "(-0.6586892478083896+0j)\n",
      "(-0.7480056452854305+0j)\n",
      "(-0.6071224016819727+0j)\n",
      "(-0.3631054658256804+0j)\n",
      "(-0.6071224016819731+0j)\n",
      "(-0.7480056452854302+0j)\n",
      "(-0.6586892478083893+0j)\n",
      "(-0.7480056452854305+0j)\n",
      "(-0.7480056452854305+0j)\n",
      "(-0.7480056452854305+0j)\n",
      "(-0.6586892478083896+0j)\n",
      "(-0.6071224016819727+0j)\n",
      "(-0.6071224016819727+0j)\n",
      "(-0.36310546582568043+0j)\n",
      "(-0.7480056452854303+0j)\n",
      "(-0.7480056452854303+0j)\n",
      "(-0.6586892478083896+0j)\n",
      "(-0.3631054658256804+0j)\n",
      "(-0.6071224016819727+0j)\n",
      "(-0.6071224016819727+0j)\n",
      "(0.7777777777777777+0j)\n",
      "(0.11111111111111127+0j)\n",
      "(0.111111111111111+0j)\n",
      "(-0.36310546582568026+0j)\n",
      "(-0.6071224016819726+0j)\n",
      "(-0.6071224016819727+0j)\n",
      "(-0.6071224016819727+0j)\n",
      "(-0.3631054658256804+0j)\n",
      "(-0.6071224016819727+0j)\n",
      "(0.11111111111111127+0j)\n",
      "(0.7777777777777777+0j)\n",
      "(0.111111111111111+0j)\n",
      "(-0.6071224016819726+0j)\n",
      "(-0.36310546582568026+0j)\n",
      "(-0.6071224016819727+0j)\n",
      "(-0.6071224016819731+0j)\n",
      "(-0.6071224016819731+0j)\n",
      "(-0.36310546582568043+0j)\n",
      "(0.111111111111111+0j)\n",
      "(0.111111111111111+0j)\n",
      "(0.7777777777777775+0j)\n",
      "(-0.607122401681973+0j)\n",
      "(-0.607122401681973+0j)\n",
      "(-0.36310546582568043+0j)\n",
      "(-0.6586892478083893+0j)\n",
      "(-0.7480056452854302+0j)\n",
      "(-0.7480056452854303+0j)\n",
      "(-0.36310546582568026+0j)\n",
      "(-0.6071224016819726+0j)\n",
      "(-0.607122401681973+0j)\n",
      "(-0.6586892478083893+0j)\n",
      "(-0.7480056452854302+0j)\n",
      "(-0.7480056452854303+0j)\n",
      "(-0.7480056452854302+0j)\n",
      "(-0.6586892478083893+0j)\n",
      "(-0.7480056452854303+0j)\n",
      "(-0.6071224016819726+0j)\n",
      "(-0.36310546582568026+0j)\n",
      "(-0.607122401681973+0j)\n",
      "(-0.7480056452854302+0j)\n",
      "(-0.6586892478083893+0j)\n",
      "(-0.7480056452854303+0j)\n",
      "(-0.7480056452854305+0j)\n",
      "(-0.7480056452854305+0j)\n",
      "(-0.6586892478083896+0j)\n",
      "(-0.6071224016819727+0j)\n",
      "(-0.6071224016819727+0j)\n",
      "(-0.36310546582568043+0j)\n",
      "(-0.7480056452854303+0j)\n",
      "(-0.7480056452854303+0j)\n",
      "(-0.6586892478083896+0j)\n",
      "Eigenvectors with zero eigenvalue of the covariance matrix (two-site Pauli operators):\n",
      "Eigenvector 1:\n",
      "[-0.8670712 +0.j  0.06344369+0.j  0.21390887+0.j  0.21184811+0.j\n",
      " -0.09008604+0.j -0.12176207+0.j  0.2882914 +0.j  0.18267596+0.j\n",
      "  0.11875128+0.j]\n",
      "Eigenvector 2:\n",
      "[-0.04394185+0.j  0.18082724+0.j -0.75108272+0.j -0.08750775+0.j\n",
      " -0.21629424+0.j  0.30380199+0.j  0.28301748+0.j  0.41009961+0.j\n",
      " -0.07891975+0.j]\n",
      "Eigenvector 3:\n",
      "[-0.07023089+0.j  0.22267112+0.j -0.37923725+0.j  0.04443621+0.j\n",
      "  0.08915972+0.j -0.13359594+0.j -0.0511711 +0.j -0.46626001+0.j\n",
      "  0.74422814+0.j]\n",
      "Eigenvector 4:\n",
      "[-0.02259098+0.j  0.17210363+0.j -0.00887012+0.j  0.28989999+0.j\n",
      " -0.22962547+0.j -0.06027453+0.j -0.76943053+0.j  0.45524482+0.j\n",
      "  0.17354319+0.j]\n",
      "Eigenvector 5:\n",
      "[ 0.06087385-0.j -0.80434199+0.j -0.09544566+0.j -0.04826418+0.j\n",
      "  0.15908249+0.j -0.11081832+0.j  0.07098633+0.j  0.36972054+0.j\n",
      "  0.39820693+0.j]\n",
      "\n",
      "Effective Hamiltonian in the subspace of zero eigenvectors:\n",
      "[[ 0.21243405+0.j  0.        +0.j  0.        +0.j -1.12978735+0.j\n",
      "   0.        +0.j  0.        +0.j  0.69817592+0.j  0.        +0.j\n",
      "   0.        +0.j  0.        +0.j  0.        +0.j  0.        +0.j\n",
      "  -0.77766475+0.j  0.        +0.j  0.        +0.j  0.        +0.j]\n",
      " [ 0.        +0.j -2.49918552+0.j  0.77317448+0.j  0.        +0.j\n",
      "   0.        +0.j  0.        +0.j  0.        +0.j  0.69817592+0.j\n",
      "   0.        +0.j  0.        +0.j  0.        +0.j  0.        +0.j\n",
      "   0.        +0.j -0.77766475+0.j  0.        +0.j  0.        +0.j]\n",
      " [ 0.        +0.j  0.77317448+0.j -2.25388781+0.j  0.        +0.j\n",
      "   0.12264885+0.j  0.        +0.j  0.        +0.j  0.        +0.j\n",
      "   0.        +0.j  0.        +0.j  0.        +0.j  0.        +0.j\n",
      "   0.        +0.j  0.        +0.j -0.77766475+0.j  0.        +0.j]\n",
      " [-1.12978735+0.j  0.        +0.j  0.        +0.j  0.45773175+0.j\n",
      "   0.        +0.j  0.12264885+0.j  0.        +0.j  0.        +0.j\n",
      "   0.        +0.j  0.        +0.j  0.        +0.j  0.        +0.j\n",
      "   0.        +0.j  0.        +0.j  0.        +0.j -0.77766475+0.j]\n",
      " [ 0.        +0.j  0.        +0.j  0.12264885+0.j  0.        +0.j\n",
      "   2.49918552+0.j  0.        +0.j  0.        +0.j -1.12978735+0.j\n",
      "  -1.10825738+0.j  0.        +0.j  0.        +0.j  0.        +0.j\n",
      "   0.        +0.j  0.        +0.j  0.        +0.j  0.        +0.j]\n",
      " [ 0.        +0.j  0.        +0.j  0.        +0.j  0.12264885+0.j\n",
      "   0.        +0.j -0.21243405+0.j  0.77317448+0.j  0.        +0.j\n",
      "   0.        +0.j -1.10825738+0.j  0.        +0.j  0.        +0.j\n",
      "   0.        +0.j  0.        +0.j  0.        +0.j  0.        +0.j]\n",
      " [ 0.69817592+0.j  0.        +0.j  0.        +0.j  0.        +0.j\n",
      "   0.        +0.j  0.77317448+0.j -0.45773175+0.j  0.        +0.j\n",
      "   0.        +0.j  0.        +0.j -1.10825738+0.j  0.        +0.j\n",
      "   0.        +0.j  0.        +0.j  0.        +0.j  0.        +0.j]\n",
      " [ 0.        +0.j  0.69817592+0.j  0.        +0.j  0.        +0.j\n",
      "  -1.12978735+0.j  0.        +0.j  0.        +0.j  2.25388781+0.j\n",
      "   0.        +0.j  0.        +0.j  0.        +0.j -1.10825738+0.j\n",
      "   0.        +0.j  0.        +0.j  0.        +0.j  0.        +0.j]\n",
      " [ 0.        +0.j  0.        +0.j  0.        +0.j  0.        +0.j\n",
      "  -1.10825738+0.j  0.        +0.j  0.        +0.j  0.        +0.j\n",
      "   2.25388781+0.j  0.        +0.j  0.        +0.j -1.12978735+0.j\n",
      "   0.        +0.j  0.        +0.j  0.69817592+0.j  0.        +0.j]\n",
      " [ 0.        +0.j  0.        +0.j  0.        +0.j  0.        +0.j\n",
      "   0.        +0.j -1.10825738+0.j  0.        +0.j  0.        +0.j\n",
      "   0.        +0.j -0.45773175+0.j  0.77317448+0.j  0.        +0.j\n",
      "   0.        +0.j  0.        +0.j  0.        +0.j  0.69817592+0.j]\n",
      " [ 0.        +0.j  0.        +0.j  0.        +0.j  0.        +0.j\n",
      "   0.        +0.j  0.        +0.j -1.10825738+0.j  0.        +0.j\n",
      "   0.        +0.j  0.77317448+0.j -0.21243405+0.j  0.        +0.j\n",
      "   0.12264885+0.j  0.        +0.j  0.        +0.j  0.        +0.j]\n",
      " [ 0.        +0.j  0.        +0.j  0.        +0.j  0.        +0.j\n",
      "   0.        +0.j  0.        +0.j  0.        +0.j -1.10825738+0.j\n",
      "  -1.12978735+0.j  0.        +0.j  0.        +0.j  2.49918552+0.j\n",
      "   0.        +0.j  0.12264885+0.j  0.        +0.j  0.        +0.j]\n",
      " [-0.77766475+0.j  0.        +0.j  0.        +0.j  0.        +0.j\n",
      "   0.        +0.j  0.        +0.j  0.        +0.j  0.        +0.j\n",
      "   0.        +0.j  0.        +0.j  0.12264885+0.j  0.        +0.j\n",
      "   0.45773175+0.j  0.        +0.j  0.        +0.j -1.12978735+0.j]\n",
      " [ 0.        +0.j -0.77766475+0.j  0.        +0.j  0.        +0.j\n",
      "   0.        +0.j  0.        +0.j  0.        +0.j  0.        +0.j\n",
      "   0.        +0.j  0.        +0.j  0.        +0.j  0.12264885+0.j\n",
      "   0.        +0.j -2.25388781+0.j  0.77317448+0.j  0.        +0.j]\n",
      " [ 0.        +0.j  0.        +0.j -0.77766475+0.j  0.        +0.j\n",
      "   0.        +0.j  0.        +0.j  0.        +0.j  0.        +0.j\n",
      "   0.69817592+0.j  0.        +0.j  0.        +0.j  0.        +0.j\n",
      "   0.        +0.j  0.77317448+0.j -2.49918552+0.j  0.        +0.j]\n",
      " [ 0.        +0.j  0.        +0.j  0.        +0.j -0.77766475+0.j\n",
      "   0.        +0.j  0.        +0.j  0.        +0.j  0.        +0.j\n",
      "   0.        +0.j  0.69817592+0.j  0.        +0.j  0.        +0.j\n",
      "  -1.12978735+0.j  0.        +0.j  0.        +0.j  0.21243405+0.j]]\n"
     ]
    }
   ],
   "source": [
    "two_site_operators = generate_two_site_pauli_operators(params['sites'])\n",
    "\n",
    "num_ops = len(two_site_operators)\n",
    "# correlation_matrix = sp.csc_matrix((num_ops, num_ops), dtype = complex)\n",
    "correlation_matrix = np.zeros((num_ops, num_ops), dtype = complex)\n",
    "\n",
    "for i in range(num_ops):\n",
    "    for j in range(num_ops):\n",
    "        Vi = two_site_operators[i].toarray()\n",
    "        Vj = two_site_operators[j].toarray()\n",
    "        term11 = np.vdot(ground_state, np.dot(Vi, np.dot(Vj, ground_state)))\n",
    "        term22 = 2 * np.vdot(ground_state, np.dot(Vi, ground_state)) * np.vdot(ground_state, np.dot(Vj, ground_state))\n",
    "        print(term11-term22)\n",
    "        correlation_matrix[i, j] = term11 - term22\n",
    "\n",
    "# print(covariance_matrix)\n",
    "# eigenvalues2, eigenvectors2 = splin.eigsh(correlation_matrix)\n",
    "eigenvalues2, eigenvectors2 = np.linalg.eigh(correlation_matrix)\n",
    "\n",
    "## Eigenvectors with zero eigenvalue (local operators that commute with the ground state)\n",
    "zero_eigenvectors2 = eigenvectors2[:, np.isclose(eigenvalues2, 0, atol=1e-8)]\n",
    "\n",
    "print(\"Eigenvectors with zero eigenvalue of the covariance matrix (two-site Pauli operators):\")\n",
    "for i in range(zero_eigenvectors2.shape[1]):\n",
    "    print(f\"Eigenvector {i + 1}:\")\n",
    "    print(zero_eigenvectors2[:, i])\n",
    "\n",
    "# # Reconstruct the effective Hamiltonian in the subspace of zero eigenvectors\n",
    "# # Use the zero eigenvectors to construct an effective Hamiltonian\n",
    "effective_hamiltonian_correl = np.zeros((2**params['sites'], 2**params['sites']), dtype=complex)\n",
    "for i in range(zero_eigenvectors2.shape[1]):\n",
    "    coeff = zero_eigenvectors2[:, i]\n",
    "    V_eff = sum(coeff[j] * two_site_operators[j].toarray() for j in range(num_ops))\n",
    "    effective_hamiltonian_correl += V_eff\n",
    "\n",
    "print(\"\\nEffective Hamiltonian in the subspace of zero eigenvectors:\")\n",
    "print(effective_hamiltonian_correl)"
   ]
  },
  {
   "cell_type": "markdown",
   "id": "b75156c7-48a8-4214-9f20-d1d45def8acf",
   "metadata": {},
   "source": [
    "# Comparison"
   ]
  },
  {
   "cell_type": "code",
   "execution_count": 91,
   "id": "b33f7f3a-6d33-4f59-a75f-e33f1509aef8",
   "metadata": {},
   "outputs": [
    {
     "data": {
      "text/plain": [
       "False"
      ]
     },
     "execution_count": 91,
     "metadata": {},
     "output_type": "execute_result"
    }
   ],
   "source": [
    "# np.allclose(effective_hamiltonian_correl.toarray(), effective_hamiltonian_covar.toarray(), atol=1e-8)\n",
    "np.allclose(effective_hamiltonian_correl, effective_hamiltonian_covar, atol=1e-8)"
   ]
  },
  {
   "cell_type": "code",
   "execution_count": null,
   "id": "001421ae-a226-4dd3-bc9d-41ac801f2fd7",
   "metadata": {},
   "outputs": [],
   "source": []
  },
  {
   "cell_type": "code",
   "execution_count": null,
   "id": "7ccdd625-c8b9-4ee9-a958-96b30c72bf99",
   "metadata": {},
   "outputs": [],
   "source": []
  }
 ],
 "metadata": {
  "kernelspec": {
   "display_name": "Python 3 (ipykernel)",
   "language": "python",
   "name": "python3"
  },
  "language_info": {
   "codemirror_mode": {
    "name": "ipython",
    "version": 3
   },
   "file_extension": ".py",
   "mimetype": "text/x-python",
   "name": "python",
   "nbconvert_exporter": "python",
   "pygments_lexer": "ipython3",
   "version": "3.12.9"
  }
 },
 "nbformat": 4,
 "nbformat_minor": 5
}

{
 "cells": [
  {
   "cell_type": "markdown",
   "id": "c733846d-fddc-423b-aadd-e29ea9fb168d",
   "metadata": {},
   "source": [
    "# Importing Packages"
   ]
  },
  {
   "cell_type": "code",
   "execution_count": 1,
   "id": "2f74d33b-8a1d-440d-96a5-20ca1bdcd435",
   "metadata": {},
   "outputs": [],
   "source": [
    "import numpy as np\n",
    "from scipy import linalg as splinalg\n",
    "import matplotlib.pyplot as plt\n",
    "from scipy import sparse as sp\n",
    "import scipy.sparse.linalg as splin\n",
    "from functools import reduce\n",
    "import itertools\n",
    "from scipy import linalg\n",
    "from scipy.linalg import expm, logm\n",
    "from scipy.special import comb\n",
    "from itertools import combinations_with_replacement, product\n",
    "from collections import Counter\n",
    "import copy\n",
    "from scipy.linalg import ishermitian\n",
    "from scipy.linalg import eigh\n",
    "import scipy"
   ]
  },
  {
   "cell_type": "markdown",
   "id": "9201c7ba-957e-4696-95b4-7b6e5444fa99",
   "metadata": {},
   "source": [
    "# Definitions"
   ]
  },
  {
   "cell_type": "code",
   "execution_count": 2,
   "id": "32130779-923d-4def-b70b-cedf04e3e453",
   "metadata": {},
   "outputs": [],
   "source": [
    "Z = sp.csc_matrix([[1, 0], [0, -1]])\n",
    "X = sp.csc_matrix([[0, 1], [1, 0]])\n",
    "Y = sp.csc_matrix([[0, -1j], [1j, 0]])\n",
    "I = sp.csc_matrix([[1, 0], [0, 1]])\n",
    "\n",
    "params={}\n",
    "params['sites'] = 4\n",
    "params['I'] = sp.eye(2)\n",
    "params['X'] = X\n",
    "params['Y'] = Y\n",
    "params['Z'] = Z"
   ]
  },
  {
   "cell_type": "code",
   "execution_count": 3,
   "id": "b371c9a8-1b7a-475b-88f6-338ff8233f2b",
   "metadata": {},
   "outputs": [
    {
     "name": "stdout",
     "output_type": "stream",
     "text": [
      "[[0.+0.j 0.-1.j]\n",
      " [0.+1.j 0.+0.j]]\n"
     ]
    }
   ],
   "source": [
    "print(params['Y'].toarray())"
   ]
  },
  {
   "cell_type": "code",
   "execution_count": 4,
   "id": "caaa08dd-b6ab-4306-99f7-937402334c06",
   "metadata": {},
   "outputs": [
    {
     "name": "stdout",
     "output_type": "stream",
     "text": [
      "[[0.+0.j 0.-1.j]\n",
      " [0.+1.j 0.+0.j]]\n"
     ]
    }
   ],
   "source": [
    "print(Y.toarray())"
   ]
  },
  {
   "cell_type": "code",
   "execution_count": 5,
   "id": "103a7878-c3b7-40d2-b4f7-ac48559f748a",
   "metadata": {},
   "outputs": [],
   "source": [
    "H = sp.csc_matrix((2**params['sites'], 2**params['sites']))\n",
    "# H.toarray()"
   ]
  },
  {
   "cell_type": "markdown",
   "id": "8289353e-6498-4af6-b1de-bdb6b7a81d0f",
   "metadata": {},
   "source": [
    "# Heisenberg Hamiltonian 1D"
   ]
  },
  {
   "cell_type": "code",
   "execution_count": 6,
   "id": "bb7a6a22-0420-4850-b241-4933cd2b0817",
   "metadata": {},
   "outputs": [
    {
     "data": {
      "text/plain": [
       "<Compressed Sparse Column sparse matrix of dtype 'complex128'\n",
       "\twith 40 stored elements and shape (16, 16)>"
      ]
     },
     "execution_count": 6,
     "metadata": {},
     "output_type": "execute_result"
    }
   ],
   "source": [
    "H = sp.csc_matrix((2**params['sites'], 2**params['sites']))\n",
    "for i in range(params['sites']-1):\n",
    "    H += reduce(sp.kron, (sp.eye(2**i), params['X'], params['X'], sp.eye(2**(params['sites']-2-i)))) + reduce(sp.kron, (sp.eye(2**i), params['Y'], params['Y'], sp.eye(2**(params['sites']-2-i)))) + reduce(sp.kron, (sp.eye(2**i), params['Z'], params['Z'], sp.eye(2**(params['sites']-2-i))))\n",
    "\n",
    "H"
   ]
  },
  {
   "cell_type": "code",
   "execution_count": 30,
   "id": "48ff29cb-fad6-4300-9c9c-33db6a7ec857",
   "metadata": {},
   "outputs": [],
   "source": [
    "# eigenvalues, eigenvectors = splin.eigsh(H, k=1, which='SA')\n",
    "eigenvalues, eigenvectors = np.linalg.eigh(H.toarray())"
   ]
  },
  {
   "cell_type": "code",
   "execution_count": 32,
   "id": "48e492ff-b280-463a-a25e-a441a7d0943d",
   "metadata": {},
   "outputs": [
    {
     "data": {
      "text/plain": [
       "np.float64(-6.464101615137755)"
      ]
     },
     "execution_count": 32,
     "metadata": {},
     "output_type": "execute_result"
    }
   ],
   "source": [
    "eigenvalues[0]"
   ]
  },
  {
   "cell_type": "code",
   "execution_count": 39,
   "id": "a8bccc8d-02c3-4645-ba16-ea72d615df5b",
   "metadata": {},
   "outputs": [
    {
     "name": "stdout",
     "output_type": "stream",
     "text": [
      "[-0.00000000e+00-0.j -0.00000000e+00-0.j -0.00000000e+00-0.j\n",
      "  1.49429245e-01+0.j  0.00000000e+00+0.j -5.57677536e-01+0.j\n",
      "  4.08248290e-01+0.j  0.00000000e+00+0.j  0.00000000e+00+0.j\n",
      "  4.08248290e-01+0.j -5.57677536e-01+0.j  1.88296102e-17+0.j\n",
      "  1.49429245e-01+0.j -7.64157212e-18+0.j  2.04755308e-18+0.j\n",
      "  0.00000000e+00+0.j]\n"
     ]
    }
   ],
   "source": [
    "eigenvectors\n",
    "print(eigenvectors[:,0])\n",
    "ground_state = eigenvectors"
   ]
  },
  {
   "cell_type": "markdown",
   "id": "ef6e9a7d-feba-41e1-b33a-96aea0624b72",
   "metadata": {},
   "source": [
    "# Covariance matrix method"
   ]
  },
  {
   "cell_type": "code",
   "execution_count": 47,
   "id": "611cf69d-79f1-451d-bbc5-22650c08b2f5",
   "metadata": {},
   "outputs": [
    {
     "name": "stdout",
     "output_type": "stream",
     "text": [
      "Eigenvectors with zero eigenvalue of the covariance matrix (two-site Pauli operators):\n",
      "\n",
      "Effective Hamiltonian in the subspace of zero eigenvectors:\n",
      "[[0.+0.j 0.+0.j 0.+0.j 0.+0.j 0.+0.j 0.+0.j 0.+0.j 0.+0.j 0.+0.j 0.+0.j\n",
      "  0.+0.j 0.+0.j 0.+0.j 0.+0.j 0.+0.j 0.+0.j]\n",
      " [0.+0.j 0.+0.j 0.+0.j 0.+0.j 0.+0.j 0.+0.j 0.+0.j 0.+0.j 0.+0.j 0.+0.j\n",
      "  0.+0.j 0.+0.j 0.+0.j 0.+0.j 0.+0.j 0.+0.j]\n",
      " [0.+0.j 0.+0.j 0.+0.j 0.+0.j 0.+0.j 0.+0.j 0.+0.j 0.+0.j 0.+0.j 0.+0.j\n",
      "  0.+0.j 0.+0.j 0.+0.j 0.+0.j 0.+0.j 0.+0.j]\n",
      " [0.+0.j 0.+0.j 0.+0.j 0.+0.j 0.+0.j 0.+0.j 0.+0.j 0.+0.j 0.+0.j 0.+0.j\n",
      "  0.+0.j 0.+0.j 0.+0.j 0.+0.j 0.+0.j 0.+0.j]\n",
      " [0.+0.j 0.+0.j 0.+0.j 0.+0.j 0.+0.j 0.+0.j 0.+0.j 0.+0.j 0.+0.j 0.+0.j\n",
      "  0.+0.j 0.+0.j 0.+0.j 0.+0.j 0.+0.j 0.+0.j]\n",
      " [0.+0.j 0.+0.j 0.+0.j 0.+0.j 0.+0.j 0.+0.j 0.+0.j 0.+0.j 0.+0.j 0.+0.j\n",
      "  0.+0.j 0.+0.j 0.+0.j 0.+0.j 0.+0.j 0.+0.j]\n",
      " [0.+0.j 0.+0.j 0.+0.j 0.+0.j 0.+0.j 0.+0.j 0.+0.j 0.+0.j 0.+0.j 0.+0.j\n",
      "  0.+0.j 0.+0.j 0.+0.j 0.+0.j 0.+0.j 0.+0.j]\n",
      " [0.+0.j 0.+0.j 0.+0.j 0.+0.j 0.+0.j 0.+0.j 0.+0.j 0.+0.j 0.+0.j 0.+0.j\n",
      "  0.+0.j 0.+0.j 0.+0.j 0.+0.j 0.+0.j 0.+0.j]\n",
      " [0.+0.j 0.+0.j 0.+0.j 0.+0.j 0.+0.j 0.+0.j 0.+0.j 0.+0.j 0.+0.j 0.+0.j\n",
      "  0.+0.j 0.+0.j 0.+0.j 0.+0.j 0.+0.j 0.+0.j]\n",
      " [0.+0.j 0.+0.j 0.+0.j 0.+0.j 0.+0.j 0.+0.j 0.+0.j 0.+0.j 0.+0.j 0.+0.j\n",
      "  0.+0.j 0.+0.j 0.+0.j 0.+0.j 0.+0.j 0.+0.j]\n",
      " [0.+0.j 0.+0.j 0.+0.j 0.+0.j 0.+0.j 0.+0.j 0.+0.j 0.+0.j 0.+0.j 0.+0.j\n",
      "  0.+0.j 0.+0.j 0.+0.j 0.+0.j 0.+0.j 0.+0.j]\n",
      " [0.+0.j 0.+0.j 0.+0.j 0.+0.j 0.+0.j 0.+0.j 0.+0.j 0.+0.j 0.+0.j 0.+0.j\n",
      "  0.+0.j 0.+0.j 0.+0.j 0.+0.j 0.+0.j 0.+0.j]\n",
      " [0.+0.j 0.+0.j 0.+0.j 0.+0.j 0.+0.j 0.+0.j 0.+0.j 0.+0.j 0.+0.j 0.+0.j\n",
      "  0.+0.j 0.+0.j 0.+0.j 0.+0.j 0.+0.j 0.+0.j]\n",
      " [0.+0.j 0.+0.j 0.+0.j 0.+0.j 0.+0.j 0.+0.j 0.+0.j 0.+0.j 0.+0.j 0.+0.j\n",
      "  0.+0.j 0.+0.j 0.+0.j 0.+0.j 0.+0.j 0.+0.j]\n",
      " [0.+0.j 0.+0.j 0.+0.j 0.+0.j 0.+0.j 0.+0.j 0.+0.j 0.+0.j 0.+0.j 0.+0.j\n",
      "  0.+0.j 0.+0.j 0.+0.j 0.+0.j 0.+0.j 0.+0.j]\n",
      " [0.+0.j 0.+0.j 0.+0.j 0.+0.j 0.+0.j 0.+0.j 0.+0.j 0.+0.j 0.+0.j 0.+0.j\n",
      "  0.+0.j 0.+0.j 0.+0.j 0.+0.j 0.+0.j 0.+0.j]]\n"
     ]
    }
   ],
   "source": [
    "def generate_two_site_pauli_operators(N):\n",
    "    two_site_ops = []\n",
    "    for i in range(N - 1): \n",
    "        X_iX_i1 = reduce(sp.kron, (sp.eye(2**i), params['X'], params['X'], sp.eye(2**(N - i - 2))))\n",
    "        Y_iY_i1 = reduce(sp.kron, (sp.eye(2**i), params['Y'], params['Y'], sp.eye(2**(N - i - 2))))\n",
    "        Z_iZ_i1 = reduce(sp.kron, (sp.eye(2**i), params['Z'], params['Z'], sp.eye(2**(N - i - 2))))\n",
    "        two_site_ops.extend([X_iX_i1, Y_iY_i1, Z_iZ_i1])\n",
    "    return two_site_ops\n",
    "\n",
    "two_site_operators = generate_two_site_pauli_operators(params['sites'])\n",
    "# print(two_site_operators)\n",
    "\n",
    "num_ops = len(two_site_operators)\n",
    "# covariance_matrix = sp.csc_matrix((num_ops, num_ops), dtype=complex)\n",
    "covariance_matrix = np.zeros((num_ops, num_ops), dtype=complex)\n",
    "\n",
    "for i in range(num_ops):\n",
    "    for j in range(num_ops):\n",
    "        V_i = two_site_operators[i].toarray()  # Convert sparse matrix to dense array\n",
    "        V_j = two_site_operators[j].toarray()  # Convert sparse matrix to dense array\n",
    "        term1 = np.vdot(ground_state, np.dot(V_i, np.dot(V_j, ground_state)))\n",
    "        term2 = np.vdot(ground_state, np.dot(V_i, ground_state)) * np.vdot(ground_state, np.dot(V_j, ground_state))\n",
    "        # print(term1-term2)\n",
    "        covariance_matrix[i, j] = term1 - term2  # Assign scalar value\n",
    "\n",
    "# eigenvalues, eigenvectors = splin.eigsh(covariance_matrix)\n",
    "eigenvalues, eigenvectors = np.linalg.eigh(covariance_matrix)\n",
    "\n",
    "## Eigenvectors with zero eigenvalue (local operators that commute with the ground state)\n",
    "zero_eigenvectors = eigenvectors[:, np.isclose(eigenvalues, 0, atol=1e-8)]\n",
    "\n",
    "print(\"Eigenvectors with zero eigenvalue of the covariance matrix (two-site Pauli operators):\")\n",
    "for i in range(zero_eigenvectors.shape[1]):\n",
    "    print(f\"Eigenvector {i + 1}:\")\n",
    "    print(zero_eigenvectors[:, i])\n",
    "\n",
    "# # Reconstruct the effective Hamiltonian in the subspace of zero eigenvectors\n",
    "# # Use the zero eigenvectors to construct an effective Hamiltonian\n",
    "effective_hamiltonian_covar = np.zeros((2**params['sites'], 2**params['sites']), dtype=complex)\n",
    "for i in range(zero_eigenvectors.shape[1]):\n",
    "    coeff = zero_eigenvectors[:, i]\n",
    "    V_eff = sum(coeff[j] * two_site_operators[j].toarray() for j in range(num_ops))\n",
    "    effective_hamiltonian_covar += V_eff\n",
    "\n",
    "print(\"\\nEffective Hamiltonian in the subspace of zero eigenvectors:\")\n",
    "print(effective_hamiltonian_covar)"
   ]
  },
  {
   "cell_type": "markdown",
   "id": "f8dbf3d2-ddde-452a-a799-71e0fb55d89a",
   "metadata": {},
   "source": [
    "# Correlation matrix method"
   ]
  },
  {
   "cell_type": "code",
   "execution_count": 28,
   "id": "63996ce4-3097-4a7d-90f5-7035a6f26217",
   "metadata": {},
   "outputs": [
    {
     "name": "stdout",
     "output_type": "stream",
     "text": [
      "(-0.6586892478083891-1.0110619036695731e-16j)\n",
      "(-0.74800564528543-5.0553095183478656e-17j)\n",
      "(-0.74800564528543-5.0553095183478656e-17j)\n",
      "(-0.36310546582568004-1.8503717077085938e-17j)\n",
      "(-0.6071224016819725+5.435466891393996e-17j)\n",
      "(-0.6071224016819724-2.355660629841042e-17j)\n",
      "(-0.6586892478083891-5.0553095183478656e-17j)\n",
      "(-0.7480056452854301-5.0553095183478656e-17j)\n",
      "(-0.74800564528543-5.0553095183478656e-17j)\n",
      "(-0.74800564528543-5.0553095183478656e-17j)\n",
      "(-0.6586892478083891+0j)\n",
      "(-0.74800564528543+2.7755575615628914e-17j)\n",
      "(-0.6071224016819724-1.3877787807814457e-17j)\n",
      "(-0.36310546582568004+6.938893903907228e-18j)\n",
      "(-0.6071224016819724-2.784833792413213e-17j)\n",
      "(-0.7480056452854301+0j)\n",
      "(-0.6586892478083891+0j)\n",
      "(-0.74800564528543+2.7755575615628914e-17j)\n",
      "(-0.74800564528543-5.0553095183478656e-17j)\n",
      "(-0.74800564528543+2.7755575615628914e-17j)\n",
      "(-0.6586892478083891+0j)\n",
      "(-0.6071224016819724+2.0816681711721685e-17j)\n",
      "(-0.6071224016819725+7.632783294297951e-17j)\n",
      "(-0.36310546582568004+0j)\n",
      "(-0.74800564528543+0j)\n",
      "(-0.74800564528543+0j)\n",
      "(-0.6586892478083891+0j)\n",
      "(-0.36310546582568004-1.8503717077085938e-17j)\n",
      "(-0.6071224016819724+1.3877787807814457e-17j)\n",
      "(-0.6071224016819724-2.0816681711721685e-17j)\n",
      "(0.7777777777777776+0j)\n",
      "(0.1111111111111111+0j)\n",
      "(0.11111111111111119+0j)\n",
      "(-0.36310546582568004+0j)\n",
      "(-0.6071224016819724+1.0408340855860843e-17j)\n",
      "(-0.6071224016819724-2.0816681711721685e-17j)\n",
      "(-0.6071224016819725-9.136210306811184e-17j)\n",
      "(-0.36310546582568004+6.938893903907228e-18j)\n",
      "(-0.6071224016819725-7.632783294297951e-17j)\n",
      "(0.1111111111111111+0j)\n",
      "(0.7777777777777775+0j)\n",
      "(0.1111111111111111+0j)\n",
      "(-0.6071224016819725-7.28583859910259e-17j)\n",
      "(-0.36310546582568004+0j)\n",
      "(-0.6071224016819725-7.632783294297951e-17j)\n",
      "(-0.6071224016819724-1.3450827855761456e-17j)\n",
      "(-0.6071224016819724+2.784833792413213e-17j)\n",
      "(-0.36310546582568004+0j)\n",
      "(0.11111111111111119+0j)\n",
      "(0.1111111111111111+0j)\n",
      "(0.7777777777777776+0j)\n",
      "(-0.6071224016819724+1.1734006660938903e-17j)\n",
      "(-0.6071224016819724+3.452945536374643e-17j)\n",
      "(-0.36310546582568004+0j)\n",
      "(-0.6586892478083891-5.0553095183478656e-17j)\n",
      "(-0.7480056452854301+0j)\n",
      "(-0.74800564528543+0j)\n",
      "(-0.36310546582568004+0j)\n",
      "(-0.6071224016819725+7.28583859910259e-17j)\n",
      "(-0.6071224016819724-1.1734006660938903e-17j)\n",
      "(-0.6586892478083891+0j)\n",
      "(-0.74800564528543+0j)\n",
      "(-0.74800564528543+0j)\n",
      "(-0.7480056452854301-5.0553095183478656e-17j)\n",
      "(-0.6586892478083891+0j)\n",
      "(-0.74800564528543+0j)\n",
      "(-0.6071224016819724-1.0408340855860843e-17j)\n",
      "(-0.36310546582568004+0j)\n",
      "(-0.6071224016819724-3.452945536374643e-17j)\n",
      "(-0.74800564528543+0j)\n",
      "(-0.6586892478083891+0j)\n",
      "(-0.74800564528543+0j)\n",
      "(-0.74800564528543-5.0553095183478656e-17j)\n",
      "(-0.74800564528543+2.7755575615628914e-17j)\n",
      "(-0.6586892478083891+0j)\n",
      "(-0.6071224016819724+2.0816681711721685e-17j)\n",
      "(-0.6071224016819725+7.632783294297951e-17j)\n",
      "(-0.36310546582568004+0j)\n",
      "(-0.74800564528543+0j)\n",
      "(-0.74800564528543+0j)\n",
      "(-0.6586892478083891+0j)\n",
      "Eigenvectors with zero eigenvalue of the covariance matrix (two-site Pauli operators):\n",
      "Eigenvector 1:\n",
      "[-0.42838016-0.j          0.61712975+0.01039511j -0.07368096-0.01306033j\n",
      "  0.0034946 -0.0042743j  -0.04319955-0.00710099j  0.03970495+0.01137529j\n",
      "  0.41883274+0.01167761j -0.49910637+0.00900515j -0.03479499-0.01801754j]\n",
      "Eigenvector 2:\n",
      "[ 0.06605569+0.j         -0.10708161+0.05345789j  0.0953359 -0.04414194j\n",
      "  0.06367897-0.01981776j  0.21075459-0.09508151j -0.27443356+0.11489927j\n",
      " -0.24002987+0.05414312j -0.46871065+0.20630962j  0.65443053-0.2697687j ]\n",
      "Eigenvector 3:\n",
      "[ 0.12494275+0.j         -0.05374873+0.01718389j  0.77917101-0.07949222j\n",
      " -0.0259698 +0.00553607j  0.13675448-0.01939222j -0.11078468+0.01385616j\n",
      " -0.05399193-0.01512482j -0.31987145+0.03579665j -0.47650165+0.0416365j ]\n",
      "Eigenvector 4:\n",
      "[ 0.52184876+0.j          0.54361246-0.04385492j -0.19690746+0.02082975j\n",
      "  0.00978695-0.01522361j -0.13378116+0.02988392j  0.12399421-0.0146603j\n",
      " -0.54858721+0.04159169j -0.17811552-0.03778945j -0.14185103+0.01922294j]\n",
      "Eigenvector 5:\n",
      "[-0.53580031+0.j          0.25564438-0.04042643j  0.30590249+0.00675058j\n",
      "  0.36771535-0.01256211j -0.2174779 +0.01853902j -0.15023745-0.00597691j\n",
      " -0.46881671+0.03432032j  0.33851629-0.01022312j  0.10455386+0.00957865j]\n",
      "\n",
      "Effective Hamiltonian in the subspace of zero eigenvectors:\n",
      "[[ 0.64390118-0.20696881j  0.        +0.j          0.        +0.j\n",
      "   0.23469473-0.07649092j  0.        +0.j          0.        +0.j\n",
      "   0.46565561+0.02681006j  0.        +0.j          0.        +0.j\n",
      "   0.        +0.j          0.        +0.j          0.        +0.j\n",
      "  -1.50688952+0.00324446j  0.        +0.j          0.        +0.j\n",
      "   0.        +0.j        ]\n",
      " [ 0.        +0.j          0.43222775+0.22772749j -2.01988066+0.32970678j\n",
      "   0.        +0.j          0.        +0.j          0.        +0.j\n",
      "   0.        +0.j          0.46565561+0.02681006j  0.        +0.j\n",
      "   0.        +0.j          0.        +0.j          0.        +0.j\n",
      "   0.        +0.j         -1.50688952+0.00324446j  0.        +0.j\n",
      "   0.        +0.j        ]\n",
      " [ 0.        +0.j         -2.01988066+0.32970678j  1.17574079-0.01125951j\n",
      "   0.        +0.j          0.37175652-0.1194935j   0.        +0.j\n",
      "   0.        +0.j          0.        +0.j          0.        +0.j\n",
      "   0.        +0.j          0.        +0.j          0.        +0.j\n",
      "   0.        +0.j          0.        +0.j         -1.50688952+0.00324446j\n",
      "   0.        +0.j        ]\n",
      " [ 0.23469473-0.07649092j  0.        +0.j          0.        +0.j\n",
      "   1.38741422-0.44595581j  0.        +0.j          0.37175652-0.1194935j\n",
      "   0.        +0.j          0.        +0.j          0.        +0.j\n",
      "   0.        +0.j          0.        +0.j          0.        +0.j\n",
      "   0.        +0.j          0.        +0.j          0.        +0.j\n",
      "  -1.50688952+0.00324446j]\n",
      " [ 0.        +0.j          0.        +0.j          0.37175652-0.1194935j\n",
      "   0.        +0.j         -0.43222775-0.22772749j  0.        +0.j\n",
      "   0.        +0.j          0.23469473-0.07649092j  1.00422296-0.00324446j\n",
      "   0.        +0.j          0.        +0.j          0.        +0.j\n",
      "   0.        +0.j          0.        +0.j          0.        +0.j\n",
      "   0.        +0.j        ]\n",
      " [ 0.        +0.j          0.        +0.j          0.        +0.j\n",
      "   0.37175652-0.1194935j   0.        +0.j         -0.64390118+0.20696881j\n",
      "  -2.01988066+0.32970678j  0.        +0.j          0.        +0.j\n",
      "   1.00422296-0.00324446j  0.        +0.j          0.        +0.j\n",
      "   0.        +0.j          0.        +0.j          0.        +0.j\n",
      "   0.        +0.j        ]\n",
      " [ 0.46565561+0.02681006j  0.        +0.j          0.        +0.j\n",
      "   0.        +0.j          0.        +0.j         -2.01988066+0.32970678j\n",
      "  -1.38741422+0.44595581j  0.        +0.j          0.        +0.j\n",
      "   0.        +0.j          1.00422296-0.00324446j  0.        +0.j\n",
      "   0.        +0.j          0.        +0.j          0.        +0.j\n",
      "   0.        +0.j        ]\n",
      " [ 0.        +0.j          0.46565561+0.02681006j  0.        +0.j\n",
      "   0.        +0.j          0.23469473-0.07649092j  0.        +0.j\n",
      "   0.        +0.j         -1.17574079+0.01125951j  0.        +0.j\n",
      "   0.        +0.j          0.        +0.j          1.00422296-0.00324446j\n",
      "   0.        +0.j          0.        +0.j          0.        +0.j\n",
      "   0.        +0.j        ]\n",
      " [ 0.        +0.j          0.        +0.j          0.        +0.j\n",
      "   0.        +0.j          1.00422296-0.00324446j  0.        +0.j\n",
      "   0.        +0.j          0.        +0.j         -1.17574079+0.01125951j\n",
      "   0.        +0.j          0.        +0.j          0.23469473-0.07649092j\n",
      "   0.        +0.j          0.        +0.j          0.46565561+0.02681006j\n",
      "   0.        +0.j        ]\n",
      " [ 0.        +0.j          0.        +0.j          0.        +0.j\n",
      "   0.        +0.j          0.        +0.j          1.00422296-0.00324446j\n",
      "   0.        +0.j          0.        +0.j          0.        +0.j\n",
      "  -1.38741422+0.44595581j -2.01988066+0.32970678j  0.        +0.j\n",
      "   0.        +0.j          0.        +0.j          0.        +0.j\n",
      "   0.46565561+0.02681006j]\n",
      " [ 0.        +0.j          0.        +0.j          0.        +0.j\n",
      "   0.        +0.j          0.        +0.j          0.        +0.j\n",
      "   1.00422296-0.00324446j  0.        +0.j          0.        +0.j\n",
      "  -2.01988066+0.32970678j -0.64390118+0.20696881j  0.        +0.j\n",
      "   0.37175652-0.1194935j   0.        +0.j          0.        +0.j\n",
      "   0.        +0.j        ]\n",
      " [ 0.        +0.j          0.        +0.j          0.        +0.j\n",
      "   0.        +0.j          0.        +0.j          0.        +0.j\n",
      "   0.        +0.j          1.00422296-0.00324446j  0.23469473-0.07649092j\n",
      "   0.        +0.j          0.        +0.j         -0.43222775-0.22772749j\n",
      "   0.        +0.j          0.37175652-0.1194935j   0.        +0.j\n",
      "   0.        +0.j        ]\n",
      " [-1.50688952+0.00324446j  0.        +0.j          0.        +0.j\n",
      "   0.        +0.j          0.        +0.j          0.        +0.j\n",
      "   0.        +0.j          0.        +0.j          0.        +0.j\n",
      "   0.        +0.j          0.37175652-0.1194935j   0.        +0.j\n",
      "   1.38741422-0.44595581j  0.        +0.j          0.        +0.j\n",
      "   0.23469473-0.07649092j]\n",
      " [ 0.        +0.j         -1.50688952+0.00324446j  0.        +0.j\n",
      "   0.        +0.j          0.        +0.j          0.        +0.j\n",
      "   0.        +0.j          0.        +0.j          0.        +0.j\n",
      "   0.        +0.j          0.        +0.j          0.37175652-0.1194935j\n",
      "   0.        +0.j          1.17574079-0.01125951j -2.01988066+0.32970678j\n",
      "   0.        +0.j        ]\n",
      " [ 0.        +0.j          0.        +0.j         -1.50688952+0.00324446j\n",
      "   0.        +0.j          0.        +0.j          0.        +0.j\n",
      "   0.        +0.j          0.        +0.j          0.46565561+0.02681006j\n",
      "   0.        +0.j          0.        +0.j          0.        +0.j\n",
      "   0.        +0.j         -2.01988066+0.32970678j  0.43222775+0.22772749j\n",
      "   0.        +0.j        ]\n",
      " [ 0.        +0.j          0.        +0.j          0.        +0.j\n",
      "  -1.50688952+0.00324446j  0.        +0.j          0.        +0.j\n",
      "   0.        +0.j          0.        +0.j          0.        +0.j\n",
      "   0.46565561+0.02681006j  0.        +0.j          0.        +0.j\n",
      "   0.23469473-0.07649092j  0.        +0.j          0.        +0.j\n",
      "   0.64390118-0.20696881j]]\n"
     ]
    }
   ],
   "source": [
    "two_site_operators = generate_two_site_pauli_operators(params['sites'])\n",
    "\n",
    "num_ops = len(two_site_operators)\n",
    "# correlation_matrix = sp.csc_matrix((num_ops, num_ops), dtype = complex)\n",
    "correlation_matrix = np.zeros((num_ops, num_ops), dtype = complex)\n",
    "\n",
    "for i in range(num_ops):\n",
    "    for j in range(num_ops):\n",
    "        Vi = two_site_operators[i].toarray()\n",
    "        Vj = two_site_operators[j].toarray()\n",
    "        term11 = np.vdot(ground_state, np.dot(Vi, np.dot(Vj, ground_state)))\n",
    "        term22 = 2 * np.vdot(ground_state, np.dot(Vi, ground_state)) * np.vdot(ground_state, np.dot(Vj, ground_state))\n",
    "        print(term11-term22)\n",
    "        correlation_matrix[i, j] = term11 - term22\n",
    "\n",
    "# print(covariance_matrix)\n",
    "# eigenvalues2, eigenvectors2 = splin.eigsh(correlation_matrix)\n",
    "eigenvalues2, eigenvectors2 = np.linalg.eigh(correlation_matrix)\n",
    "\n",
    "## Eigenvectors with zero eigenvalue (local operators that commute with the ground state)\n",
    "zero_eigenvectors2 = eigenvectors2[:, np.isclose(eigenvalues2, 0, atol=1e-8)]\n",
    "\n",
    "print(\"Eigenvectors with zero eigenvalue of the covariance matrix (two-site Pauli operators):\")\n",
    "for i in range(zero_eigenvectors2.shape[1]):\n",
    "    print(f\"Eigenvector {i + 1}:\")\n",
    "    print(zero_eigenvectors2[:, i])\n",
    "\n",
    "# # Reconstruct the effective Hamiltonian in the subspace of zero eigenvectors\n",
    "# # Use the zero eigenvectors to construct an effective Hamiltonian\n",
    "effective_hamiltonian_correl = np.zeros((2**params['sites'], 2**params['sites']), dtype=complex)\n",
    "for i in range(zero_eigenvectors2.shape[1]):\n",
    "    coeff = zero_eigenvectors2[:, i]\n",
    "    V_eff = sum(coeff[j] * two_site_operators[j].toarray() for j in range(num_ops))\n",
    "    effective_hamiltonian_correl += V_eff\n",
    "\n",
    "print(\"\\nEffective Hamiltonian in the subspace of zero eigenvectors:\")\n",
    "print(effective_hamiltonian_correl)"
   ]
  },
  {
   "cell_type": "markdown",
   "id": "b75156c7-48a8-4214-9f20-d1d45def8acf",
   "metadata": {},
   "source": [
    "# Comparison"
   ]
  },
  {
   "cell_type": "code",
   "execution_count": 50,
   "id": "b33f7f3a-6d33-4f59-a75f-e33f1509aef8",
   "metadata": {},
   "outputs": [
    {
     "data": {
      "text/plain": [
       "False"
      ]
     },
     "execution_count": 50,
     "metadata": {},
     "output_type": "execute_result"
    }
   ],
   "source": [
    "# np.allclose(effective_hamiltonian_correl.toarray(), effective_hamiltonian_covar.toarray(), atol=1e-8)\n",
    "np.allclose(effective_hamiltonian_correl, effective_hamiltonian_covar, atol=1e-8)"
   ]
  },
  {
   "cell_type": "code",
   "execution_count": null,
   "id": "001421ae-a226-4dd3-bc9d-41ac801f2fd7",
   "metadata": {},
   "outputs": [],
   "source": []
  }
 ],
 "metadata": {
  "kernelspec": {
   "display_name": "Python 3 (ipykernel)",
   "language": "python",
   "name": "python3"
  },
  "language_info": {
   "codemirror_mode": {
    "name": "ipython",
    "version": 3
   },
   "file_extension": ".py",
   "mimetype": "text/x-python",
   "name": "python",
   "nbconvert_exporter": "python",
   "pygments_lexer": "ipython3",
   "version": "3.12.9"
  }
 },
 "nbformat": 4,
 "nbformat_minor": 5
}
